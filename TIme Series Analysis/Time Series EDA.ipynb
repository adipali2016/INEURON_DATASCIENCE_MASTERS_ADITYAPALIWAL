{
 "cells": [
  {
   "cell_type": "markdown",
   "metadata": {},
   "source": [
    "## Installing Modules"
   ]
  },
  {
   "cell_type": "code",
   "execution_count": 2,
   "metadata": {},
   "outputs": [
    {
     "name": "stdout",
     "output_type": "stream",
     "text": [
      "Collecting pandas-datareader\n",
      "  Downloading pandas_datareader-0.10.0-py3-none-any.whl (109 kB)\n",
      "Requirement already satisfied: lxml in c:\\users\\asus\\anaconda3\\lib\\site-packages (from pandas-datareader) (4.6.1)\n",
      "Requirement already satisfied: pandas>=0.23 in c:\\users\\asus\\anaconda3\\lib\\site-packages (from pandas-datareader) (1.1.3)\n",
      "Requirement already satisfied: requests>=2.19.0 in c:\\users\\asus\\anaconda3\\lib\\site-packages (from pandas-datareader) (2.24.0)\n",
      "Requirement already satisfied: pytz>=2017.2 in c:\\users\\asus\\anaconda3\\lib\\site-packages (from pandas>=0.23->pandas-datareader) (2020.1)\n",
      "Requirement already satisfied: python-dateutil>=2.7.3 in c:\\users\\asus\\anaconda3\\lib\\site-packages (from pandas>=0.23->pandas-datareader) (2.8.1)\n",
      "Requirement already satisfied: numpy>=1.15.4 in c:\\users\\asus\\anaconda3\\lib\\site-packages (from pandas>=0.23->pandas-datareader) (1.19.2)\n",
      "Requirement already satisfied: idna<3,>=2.5 in c:\\users\\asus\\anaconda3\\lib\\site-packages (from requests>=2.19.0->pandas-datareader) (2.10)\n",
      "Requirement already satisfied: certifi>=2017.4.17 in c:\\users\\asus\\anaconda3\\lib\\site-packages (from requests>=2.19.0->pandas-datareader) (2022.5.18.1)\n",
      "Requirement already satisfied: urllib3!=1.25.0,!=1.25.1,<1.26,>=1.21.1 in c:\\users\\asus\\anaconda3\\lib\\site-packages (from requests>=2.19.0->pandas-datareader) (1.25.11)\n",
      "Requirement already satisfied: chardet<4,>=3.0.2 in c:\\users\\asus\\anaconda3\\lib\\site-packages (from requests>=2.19.0->pandas-datareader) (3.0.4)\n",
      "Requirement already satisfied: six>=1.5 in c:\\users\\asus\\anaconda3\\lib\\site-packages (from python-dateutil>=2.7.3->pandas>=0.23->pandas-datareader) (1.15.0)\n",
      "Installing collected packages: pandas-datareader\n",
      "Successfully installed pandas-datareader-0.10.0\n"
     ]
    }
   ],
   "source": [
    "!pip install pandas-datareader"
   ]
  },
  {
   "cell_type": "markdown",
   "metadata": {},
   "source": [
    "### Importing the required packages"
   ]
  },
  {
   "cell_type": "code",
   "execution_count": 37,
   "metadata": {},
   "outputs": [],
   "source": [
    "import pandas_datareader.data as pdr\n",
    "import pandas as pd\n",
    "from datetime import datetime as dt\n",
    "import matplotlib.pyplot as plt\n",
    "%matplotlib inline"
   ]
  },
  {
   "cell_type": "markdown",
   "metadata": {},
   "source": [
    "### Getting the data to analyse"
   ]
  },
  {
   "cell_type": "code",
   "execution_count": 18,
   "metadata": {},
   "outputs": [],
   "source": [
    "start_date = datetime(2017,2,27)\n",
    "end_date = dt.today()\n",
    "pd_stc = pdr.get_data_stooq('TSLA')"
   ]
  },
  {
   "cell_type": "code",
   "execution_count": 32,
   "metadata": {},
   "outputs": [
    {
     "data": {
      "text/html": [
       "<div>\n",
       "<style scoped>\n",
       "    .dataframe tbody tr th:only-of-type {\n",
       "        vertical-align: middle;\n",
       "    }\n",
       "\n",
       "    .dataframe tbody tr th {\n",
       "        vertical-align: top;\n",
       "    }\n",
       "\n",
       "    .dataframe thead th {\n",
       "        text-align: right;\n",
       "    }\n",
       "</style>\n",
       "<table border=\"1\" class=\"dataframe\">\n",
       "  <thead>\n",
       "    <tr style=\"text-align: right;\">\n",
       "      <th></th>\n",
       "      <th>Open</th>\n",
       "      <th>High</th>\n",
       "      <th>Low</th>\n",
       "      <th>Close</th>\n",
       "      <th>Volume</th>\n",
       "    </tr>\n",
       "    <tr>\n",
       "      <th>Date</th>\n",
       "      <th></th>\n",
       "      <th></th>\n",
       "      <th></th>\n",
       "      <th></th>\n",
       "      <th></th>\n",
       "    </tr>\n",
       "  </thead>\n",
       "  <tbody>\n",
       "    <tr>\n",
       "      <th>2023-01-27</th>\n",
       "      <td>162.430</td>\n",
       "      <td>180.6800</td>\n",
       "      <td>161.17</td>\n",
       "      <td>177.90</td>\n",
       "      <td>306590613</td>\n",
       "    </tr>\n",
       "    <tr>\n",
       "      <th>2023-01-26</th>\n",
       "      <td>159.965</td>\n",
       "      <td>161.4200</td>\n",
       "      <td>154.76</td>\n",
       "      <td>160.27</td>\n",
       "      <td>234815090</td>\n",
       "    </tr>\n",
       "    <tr>\n",
       "      <th>2023-01-25</th>\n",
       "      <td>141.905</td>\n",
       "      <td>146.4100</td>\n",
       "      <td>138.07</td>\n",
       "      <td>144.43</td>\n",
       "      <td>192734347</td>\n",
       "    </tr>\n",
       "    <tr>\n",
       "      <th>2023-01-24</th>\n",
       "      <td>143.000</td>\n",
       "      <td>146.5000</td>\n",
       "      <td>141.10</td>\n",
       "      <td>143.89</td>\n",
       "      <td>158699056</td>\n",
       "    </tr>\n",
       "    <tr>\n",
       "      <th>2023-01-23</th>\n",
       "      <td>135.870</td>\n",
       "      <td>145.3793</td>\n",
       "      <td>134.27</td>\n",
       "      <td>143.75</td>\n",
       "      <td>203119211</td>\n",
       "    </tr>\n",
       "  </tbody>\n",
       "</table>\n",
       "</div>"
      ],
      "text/plain": [
       "               Open      High     Low   Close     Volume\n",
       "Date                                                    \n",
       "2023-01-27  162.430  180.6800  161.17  177.90  306590613\n",
       "2023-01-26  159.965  161.4200  154.76  160.27  234815090\n",
       "2023-01-25  141.905  146.4100  138.07  144.43  192734347\n",
       "2023-01-24  143.000  146.5000  141.10  143.89  158699056\n",
       "2023-01-23  135.870  145.3793  134.27  143.75  203119211"
      ]
     },
     "execution_count": 32,
     "metadata": {},
     "output_type": "execute_result"
    }
   ],
   "source": [
    "pd_stc.head()"
   ]
  },
  {
   "cell_type": "code",
   "execution_count": 20,
   "metadata": {},
   "outputs": [
    {
     "data": {
      "text/plain": [
       "<AxesSubplot:xlabel='Date'>"
      ]
     },
     "execution_count": 20,
     "metadata": {},
     "output_type": "execute_result"
    },
    {
     "data": {
      "image/png": "[encoded data removed]",
      "text/plain": [
       "<Figure size 432x288 with 1 Axes>"
      ]
     },
     "metadata": {
      "needs_background": "light"
     },
     "output_type": "display_data"
    }
   ],
   "source": [
    "pd_stc.plot()"
   ]
  },
  {
   "cell_type": "code",
   "execution_count": 23,
   "metadata": {},
   "outputs": [
    {
     "data": {
      "text/plain": [
       "<AxesSubplot:xlabel='Date'>"
      ]
     },
     "execution_count": 23,
     "metadata": {},
     "output_type": "execute_result"
    },
    {
     "data": {
      "image/png": "[encoded data removed]",
      "text/plain": [
       "<Figure size 864x288 with 1 Axes>"
      ]
     },
     "metadata": {
      "needs_background": "light"
     },
     "output_type": "display_data"
    }
   ],
   "source": [
    "#plotting for high\n",
    "pd_stc['High'].plot(figsize = (12,4))"
   ]
  },
  {
   "cell_type": "code",
   "execution_count": 69,
   "metadata": {},
   "outputs": [
    {
     "data": {
      "text/plain": [
       "<AxesSubplot:xlabel='Date'>"
      ]
     },
     "execution_count": 69,
     "metadata": {},
     "output_type": "execute_result"
    },
    {
     "data": {
      "image/png": "[encoded data removed]",
      "text/plain": [
       "<Figure size 864x288 with 1 Axes>"
      ]
     },
     "metadata": {
      "needs_background": "light"
     },
     "output_type": "display_data"
    }
   ],
   "source": [
    "#plotting for high with a threshold\n",
    "pd_stc['High'].plot(xlim = ['2020-01-01','2022-09-01'], ylim=[0,500] ,figsize = (12,4))\n",
    "\n",
    "\n",
    "## We also have parameters like color,line-style,kind"
   ]
  },
  {
   "cell_type": "markdown",
   "metadata": {},
   "source": [
    "### Indexing in date-time data"
   ]
  },
  {
   "cell_type": "code",
   "execution_count": 41,
   "metadata": {},
   "outputs": [],
   "source": [
    "index = pd_stc.loc['2022-09-01':'2020-01-01'].index\n",
    "share_open = pd_stc.loc[index]['Open']"
   ]
  },
  {
   "cell_type": "code",
   "execution_count": 42,
   "metadata": {},
   "outputs": [
    {
     "data": {
      "text/plain": [
       "DatetimeIndex(['2022-09-01', '2022-08-31', '2022-08-30', '2022-08-29',\n",
       "               '2022-08-26', '2022-08-25', '2022-08-24', '2022-08-23',\n",
       "               '2022-08-22', '2022-08-19',\n",
       "               ...\n",
       "               '2020-01-15', '2020-01-14', '2020-01-13', '2020-01-10',\n",
       "               '2020-01-09', '2020-01-08', '2020-01-07', '2020-01-06',\n",
       "               '2020-01-03', '2020-01-02'],\n",
       "              dtype='datetime64[ns]', name='Date', length=673, freq=None)"
      ]
     },
     "execution_count": 42,
     "metadata": {},
     "output_type": "execute_result"
    }
   ],
   "source": [
    "index"
   ]
  },
  {
   "cell_type": "code",
   "execution_count": 46,
   "metadata": {},
   "outputs": [
    {
     "data": {
      "text/plain": [
       "[<matplotlib.lines.Line2D at 0x21dc9aa8820>]"
      ]
     },
     "execution_count": 46,
     "metadata": {},
     "output_type": "execute_result"
    },
    {
     "data": {
      "image/png": "[encoded data removed]",
      "text/plain": [
       "<Figure size 432x288 with 1 Axes>"
      ]
     },
     "metadata": {
      "needs_background": "light"
     },
     "output_type": "display_data"
    }
   ],
   "source": [
    "figure, axis = plt.subplots()\n",
    "plt.tight_layout()\n",
    "figure.autofmt_xdate() #Auto formatting done in x axis\n",
    "axis.plot(index,share_open)"
   ]
  },
  {
   "cell_type": "markdown",
   "metadata": {},
   "source": [
    "### Implementing DateTime functions"
   ]
  },
  {
   "cell_type": "code",
   "execution_count": 47,
   "metadata": {},
   "outputs": [
    {
     "data": {
      "text/html": [
       "<div>\n",
       "<style scoped>\n",
       "    .dataframe tbody tr th:only-of-type {\n",
       "        vertical-align: middle;\n",
       "    }\n",
       "\n",
       "    .dataframe tbody tr th {\n",
       "        vertical-align: top;\n",
       "    }\n",
       "\n",
       "    .dataframe thead th {\n",
       "        text-align: right;\n",
       "    }\n",
       "</style>\n",
       "<table border=\"1\" class=\"dataframe\">\n",
       "  <thead>\n",
       "    <tr style=\"text-align: right;\">\n",
       "      <th></th>\n",
       "      <th>Date</th>\n",
       "      <th>Open</th>\n",
       "      <th>High</th>\n",
       "      <th>Low</th>\n",
       "      <th>Close</th>\n",
       "      <th>Volume</th>\n",
       "    </tr>\n",
       "  </thead>\n",
       "  <tbody>\n",
       "    <tr>\n",
       "      <th>0</th>\n",
       "      <td>2023-01-27</td>\n",
       "      <td>162.430</td>\n",
       "      <td>180.6800</td>\n",
       "      <td>161.17</td>\n",
       "      <td>177.90</td>\n",
       "      <td>306590613</td>\n",
       "    </tr>\n",
       "    <tr>\n",
       "      <th>1</th>\n",
       "      <td>2023-01-26</td>\n",
       "      <td>159.965</td>\n",
       "      <td>161.4200</td>\n",
       "      <td>154.76</td>\n",
       "      <td>160.27</td>\n",
       "      <td>234815090</td>\n",
       "    </tr>\n",
       "    <tr>\n",
       "      <th>2</th>\n",
       "      <td>2023-01-25</td>\n",
       "      <td>141.905</td>\n",
       "      <td>146.4100</td>\n",
       "      <td>138.07</td>\n",
       "      <td>144.43</td>\n",
       "      <td>192734347</td>\n",
       "    </tr>\n",
       "    <tr>\n",
       "      <th>3</th>\n",
       "      <td>2023-01-24</td>\n",
       "      <td>143.000</td>\n",
       "      <td>146.5000</td>\n",
       "      <td>141.10</td>\n",
       "      <td>143.89</td>\n",
       "      <td>158699056</td>\n",
       "    </tr>\n",
       "    <tr>\n",
       "      <th>4</th>\n",
       "      <td>2023-01-23</td>\n",
       "      <td>135.870</td>\n",
       "      <td>145.3793</td>\n",
       "      <td>134.27</td>\n",
       "      <td>143.75</td>\n",
       "      <td>203119211</td>\n",
       "    </tr>\n",
       "  </tbody>\n",
       "</table>\n",
       "</div>"
      ],
      "text/plain": [
       "        Date     Open      High     Low   Close     Volume\n",
       "0 2023-01-27  162.430  180.6800  161.17  177.90  306590613\n",
       "1 2023-01-26  159.965  161.4200  154.76  160.27  234815090\n",
       "2 2023-01-25  141.905  146.4100  138.07  144.43  192734347\n",
       "3 2023-01-24  143.000  146.5000  141.10  143.89  158699056\n",
       "4 2023-01-23  135.870  145.3793  134.27  143.75  203119211"
      ]
     },
     "execution_count": 47,
     "metadata": {},
     "output_type": "execute_result"
    }
   ],
   "source": [
    "# We can reset index if we want to convert the date indexing in the datetime format\n",
    "\n",
    "pd_stc = pd_stc.reset_index()\n",
    "pd_stc.head()"
   ]
  },
  {
   "cell_type": "code",
   "execution_count": 48,
   "metadata": {},
   "outputs": [
    {
     "data": {
      "text/plain": [
       "0      2023-01-27\n",
       "1      2023-01-26\n",
       "2      2023-01-25\n",
       "3      2023-01-24\n",
       "4      2023-01-23\n",
       "          ...    \n",
       "1253   2018-02-05\n",
       "1254   2018-02-02\n",
       "1255   2018-02-01\n",
       "1256   2018-01-31\n",
       "1257   2018-01-30\n",
       "Name: Date, Length: 1258, dtype: datetime64[ns]"
      ]
     },
     "execution_count": 48,
     "metadata": {},
     "output_type": "execute_result"
    }
   ],
   "source": [
    "pd.to_datetime(pd_stc['Date'])"
   ]
  },
  {
   "cell_type": "code",
   "execution_count": 49,
   "metadata": {},
   "outputs": [],
   "source": [
    "# We can revert back to date as index.\n",
    "pd_stc.set_index('Date',drop=True, inplace=True)"
   ]
  },
  {
   "cell_type": "code",
   "execution_count": 50,
   "metadata": {},
   "outputs": [
    {
     "data": {
      "text/html": [
       "<div>\n",
       "<style scoped>\n",
       "    .dataframe tbody tr th:only-of-type {\n",
       "        vertical-align: middle;\n",
       "    }\n",
       "\n",
       "    .dataframe tbody tr th {\n",
       "        vertical-align: top;\n",
       "    }\n",
       "\n",
       "    .dataframe thead th {\n",
       "        text-align: right;\n",
       "    }\n",
       "</style>\n",
       "<table border=\"1\" class=\"dataframe\">\n",
       "  <thead>\n",
       "    <tr style=\"text-align: right;\">\n",
       "      <th></th>\n",
       "      <th>Open</th>\n",
       "      <th>High</th>\n",
       "      <th>Low</th>\n",
       "      <th>Close</th>\n",
       "      <th>Volume</th>\n",
       "    </tr>\n",
       "    <tr>\n",
       "      <th>Date</th>\n",
       "      <th></th>\n",
       "      <th></th>\n",
       "      <th></th>\n",
       "      <th></th>\n",
       "      <th></th>\n",
       "    </tr>\n",
       "  </thead>\n",
       "  <tbody>\n",
       "    <tr>\n",
       "      <th>2023-01-27</th>\n",
       "      <td>162.430</td>\n",
       "      <td>180.6800</td>\n",
       "      <td>161.17</td>\n",
       "      <td>177.90</td>\n",
       "      <td>306590613</td>\n",
       "    </tr>\n",
       "    <tr>\n",
       "      <th>2023-01-26</th>\n",
       "      <td>159.965</td>\n",
       "      <td>161.4200</td>\n",
       "      <td>154.76</td>\n",
       "      <td>160.27</td>\n",
       "      <td>234815090</td>\n",
       "    </tr>\n",
       "    <tr>\n",
       "      <th>2023-01-25</th>\n",
       "      <td>141.905</td>\n",
       "      <td>146.4100</td>\n",
       "      <td>138.07</td>\n",
       "      <td>144.43</td>\n",
       "      <td>192734347</td>\n",
       "    </tr>\n",
       "    <tr>\n",
       "      <th>2023-01-24</th>\n",
       "      <td>143.000</td>\n",
       "      <td>146.5000</td>\n",
       "      <td>141.10</td>\n",
       "      <td>143.89</td>\n",
       "      <td>158699056</td>\n",
       "    </tr>\n",
       "    <tr>\n",
       "      <th>2023-01-23</th>\n",
       "      <td>135.870</td>\n",
       "      <td>145.3793</td>\n",
       "      <td>134.27</td>\n",
       "      <td>143.75</td>\n",
       "      <td>203119211</td>\n",
       "    </tr>\n",
       "  </tbody>\n",
       "</table>\n",
       "</div>"
      ],
      "text/plain": [
       "               Open      High     Low   Close     Volume\n",
       "Date                                                    \n",
       "2023-01-27  162.430  180.6800  161.17  177.90  306590613\n",
       "2023-01-26  159.965  161.4200  154.76  160.27  234815090\n",
       "2023-01-25  141.905  146.4100  138.07  144.43  192734347\n",
       "2023-01-24  143.000  146.5000  141.10  143.89  158699056\n",
       "2023-01-23  135.870  145.3793  134.27  143.75  203119211"
      ]
     },
     "execution_count": 50,
     "metadata": {},
     "output_type": "execute_result"
    }
   ],
   "source": [
    "pd_stc.head()"
   ]
  },
  {
   "cell_type": "markdown",
   "metadata": {},
   "source": [
    "#### Few properties of DateTime"
   ]
  },
  {
   "cell_type": "code",
   "execution_count": 55,
   "metadata": {},
   "outputs": [],
   "source": [
    "# Current DateTime\n",
    "date = dt.today()"
   ]
  },
  {
   "cell_type": "code",
   "execution_count": 56,
   "metadata": {},
   "outputs": [
    {
     "data": {
      "text/plain": [
       "datetime.date(2023, 1, 30)"
      ]
     },
     "execution_count": 56,
     "metadata": {},
     "output_type": "execute_result"
    }
   ],
   "source": [
    "date.date()"
   ]
  },
  {
   "cell_type": "code",
   "execution_count": 57,
   "metadata": {},
   "outputs": [
    {
     "data": {
      "text/plain": [
       "2023"
      ]
     },
     "execution_count": 57,
     "metadata": {},
     "output_type": "execute_result"
    }
   ],
   "source": [
    "date.year"
   ]
  },
  {
   "cell_type": "code",
   "execution_count": 58,
   "metadata": {},
   "outputs": [
    {
     "data": {
      "text/plain": [
       "30"
      ]
     },
     "execution_count": 58,
     "metadata": {},
     "output_type": "execute_result"
    }
   ],
   "source": [
    "date.day"
   ]
  },
  {
   "cell_type": "code",
   "execution_count": 60,
   "metadata": {},
   "outputs": [
    {
     "data": {
      "text/plain": [
       "0"
      ]
     },
     "execution_count": 60,
     "metadata": {},
     "output_type": "execute_result"
    }
   ],
   "source": [
    "date.weekday()"
   ]
  },
  {
   "cell_type": "markdown",
   "metadata": {},
   "source": [
    "#### Time Resampling"
   ]
  },
  {
   "cell_type": "code",
   "execution_count": 61,
   "metadata": {},
   "outputs": [
    {
     "data": {
      "text/html": [
       "<div>\n",
       "<style scoped>\n",
       "    .dataframe tbody tr th:only-of-type {\n",
       "        vertical-align: middle;\n",
       "    }\n",
       "\n",
       "    .dataframe tbody tr th {\n",
       "        vertical-align: top;\n",
       "    }\n",
       "\n",
       "    .dataframe thead th {\n",
       "        text-align: right;\n",
       "    }\n",
       "</style>\n",
       "<table border=\"1\" class=\"dataframe\">\n",
       "  <thead>\n",
       "    <tr style=\"text-align: right;\">\n",
       "      <th></th>\n",
       "      <th>Open</th>\n",
       "      <th>High</th>\n",
       "      <th>Low</th>\n",
       "      <th>Close</th>\n",
       "      <th>Volume</th>\n",
       "    </tr>\n",
       "    <tr>\n",
       "      <th>Date</th>\n",
       "      <th></th>\n",
       "      <th></th>\n",
       "      <th></th>\n",
       "      <th></th>\n",
       "      <th></th>\n",
       "    </tr>\n",
       "  </thead>\n",
       "  <tbody>\n",
       "    <tr>\n",
       "      <th>2023-01-27</th>\n",
       "      <td>162.430</td>\n",
       "      <td>180.6800</td>\n",
       "      <td>161.17</td>\n",
       "      <td>177.90</td>\n",
       "      <td>306590613</td>\n",
       "    </tr>\n",
       "    <tr>\n",
       "      <th>2023-01-26</th>\n",
       "      <td>159.965</td>\n",
       "      <td>161.4200</td>\n",
       "      <td>154.76</td>\n",
       "      <td>160.27</td>\n",
       "      <td>234815090</td>\n",
       "    </tr>\n",
       "    <tr>\n",
       "      <th>2023-01-25</th>\n",
       "      <td>141.905</td>\n",
       "      <td>146.4100</td>\n",
       "      <td>138.07</td>\n",
       "      <td>144.43</td>\n",
       "      <td>192734347</td>\n",
       "    </tr>\n",
       "    <tr>\n",
       "      <th>2023-01-24</th>\n",
       "      <td>143.000</td>\n",
       "      <td>146.5000</td>\n",
       "      <td>141.10</td>\n",
       "      <td>143.89</td>\n",
       "      <td>158699056</td>\n",
       "    </tr>\n",
       "    <tr>\n",
       "      <th>2023-01-23</th>\n",
       "      <td>135.870</td>\n",
       "      <td>145.3793</td>\n",
       "      <td>134.27</td>\n",
       "      <td>143.75</td>\n",
       "      <td>203119211</td>\n",
       "    </tr>\n",
       "  </tbody>\n",
       "</table>\n",
       "</div>"
      ],
      "text/plain": [
       "               Open      High     Low   Close     Volume\n",
       "Date                                                    \n",
       "2023-01-27  162.430  180.6800  161.17  177.90  306590613\n",
       "2023-01-26  159.965  161.4200  154.76  160.27  234815090\n",
       "2023-01-25  141.905  146.4100  138.07  144.43  192734347\n",
       "2023-01-24  143.000  146.5000  141.10  143.89  158699056\n",
       "2023-01-23  135.870  145.3793  134.27  143.75  203119211"
      ]
     },
     "execution_count": 61,
     "metadata": {},
     "output_type": "execute_result"
    }
   ],
   "source": [
    "pd_stc.head()"
   ]
  },
  {
   "cell_type": "code",
   "execution_count": 66,
   "metadata": {},
   "outputs": [
    {
     "data": {
      "text/plain": [
       "<AxesSubplot:xlabel='Date'>"
      ]
     },
     "execution_count": 66,
     "metadata": {},
     "output_type": "execute_result"
    },
    {
     "data": {
      "image/png": "[encoded data removed]",
      "text/plain": [
       "<Figure size 432x288 with 1 Axes>"
      ]
     },
     "metadata": {
      "needs_background": "light"
     },
     "output_type": "display_data"
    }
   ],
   "source": [
    "# We have 5 years data. Now we want to resample the data.\n",
    "pd_stc.resample(rule='A').min()['Open'].plot()"
   ]
  },
  {
   "cell_type": "markdown",
   "metadata": {},
   "source": [
    "Rule A means resampling based on frequency and year"
   ]
  },
  {
   "cell_type": "code",
   "execution_count": 65,
   "metadata": {},
   "outputs": [
    {
     "data": {
      "text/plain": [
       "<AxesSubplot:xlabel='Date'>"
      ]
     },
     "execution_count": 65,
     "metadata": {},
     "output_type": "execute_result"
    },
    {
     "data": {
      "image/png": "[encoded data removed]",
      "text/plain": [
       "<Figure size 432x288 with 1 Axes>"
      ]
     },
     "metadata": {
      "needs_background": "light"
     },
     "output_type": "display_data"
    }
   ],
   "source": [
    "pd_stc.resample(rule='A').max()['Open'].plot()"
   ]
  },
  {
   "cell_type": "code",
   "execution_count": 68,
   "metadata": {},
   "outputs": [
    {
     "data": {
      "text/plain": [
       "<AxesSubplot:xlabel='Date'>"
      ]
     },
     "execution_count": 68,
     "metadata": {},
     "output_type": "execute_result"
    },
    {
     "data": {
      "image/png": "[encoded data removed]",
      "text/plain": [
       "<Figure size 432x288 with 1 Axes>"
      ]
     },
     "metadata": {
      "needs_background": "light"
     },
     "output_type": "display_data"
    }
   ],
   "source": [
    "pd_stc.resample(rule='QS').max()['High'].plot()"
   ]
  },
  {
   "cell_type": "markdown",
   "metadata": {},
   "source": [
    "Rule QS tells us about the frequency and quarterly"
   ]
  },
  {
   "cell_type": "markdown",
   "metadata": {},
   "source": [
    "### Rolling\n",
    "\n",
    "Rolling means number of days to leave to create adjacent aggregate."
   ]
  },
  {
   "cell_type": "code",
   "execution_count": 70,
   "metadata": {},
   "outputs": [],
   "source": [
    "pd_stc['Open: 30 days rolling'] = pd_stc['Open'].rolling(30).mean()"
   ]
  },
  {
   "cell_type": "code",
   "execution_count": 71,
   "metadata": {},
   "outputs": [
    {
     "data": {
      "text/html": [
       "<div>\n",
       "<style scoped>\n",
       "    .dataframe tbody tr th:only-of-type {\n",
       "        vertical-align: middle;\n",
       "    }\n",
       "\n",
       "    .dataframe tbody tr th {\n",
       "        vertical-align: top;\n",
       "    }\n",
       "\n",
       "    .dataframe thead th {\n",
       "        text-align: right;\n",
       "    }\n",
       "</style>\n",
       "<table border=\"1\" class=\"dataframe\">\n",
       "  <thead>\n",
       "    <tr style=\"text-align: right;\">\n",
       "      <th></th>\n",
       "      <th>Open</th>\n",
       "      <th>High</th>\n",
       "      <th>Low</th>\n",
       "      <th>Close</th>\n",
       "      <th>Volume</th>\n",
       "      <th>Open: 30 days rolling</th>\n",
       "    </tr>\n",
       "    <tr>\n",
       "      <th>Date</th>\n",
       "      <th></th>\n",
       "      <th></th>\n",
       "      <th></th>\n",
       "      <th></th>\n",
       "      <th></th>\n",
       "      <th></th>\n",
       "    </tr>\n",
       "  </thead>\n",
       "  <tbody>\n",
       "    <tr>\n",
       "      <th>2023-01-27</th>\n",
       "      <td>162.430</td>\n",
       "      <td>180.6800</td>\n",
       "      <td>161.1700</td>\n",
       "      <td>177.90</td>\n",
       "      <td>306590613</td>\n",
       "      <td>NaN</td>\n",
       "    </tr>\n",
       "    <tr>\n",
       "      <th>2023-01-26</th>\n",
       "      <td>159.965</td>\n",
       "      <td>161.4200</td>\n",
       "      <td>154.7600</td>\n",
       "      <td>160.27</td>\n",
       "      <td>234815090</td>\n",
       "      <td>NaN</td>\n",
       "    </tr>\n",
       "    <tr>\n",
       "      <th>2023-01-25</th>\n",
       "      <td>141.905</td>\n",
       "      <td>146.4100</td>\n",
       "      <td>138.0700</td>\n",
       "      <td>144.43</td>\n",
       "      <td>192734347</td>\n",
       "      <td>NaN</td>\n",
       "    </tr>\n",
       "    <tr>\n",
       "      <th>2023-01-24</th>\n",
       "      <td>143.000</td>\n",
       "      <td>146.5000</td>\n",
       "      <td>141.1000</td>\n",
       "      <td>143.89</td>\n",
       "      <td>158699056</td>\n",
       "      <td>NaN</td>\n",
       "    </tr>\n",
       "    <tr>\n",
       "      <th>2023-01-23</th>\n",
       "      <td>135.870</td>\n",
       "      <td>145.3793</td>\n",
       "      <td>134.2700</td>\n",
       "      <td>143.75</td>\n",
       "      <td>203119211</td>\n",
       "      <td>NaN</td>\n",
       "    </tr>\n",
       "    <tr>\n",
       "      <th>2023-01-20</th>\n",
       "      <td>128.680</td>\n",
       "      <td>133.5100</td>\n",
       "      <td>127.3466</td>\n",
       "      <td>133.42</td>\n",
       "      <td>138858136</td>\n",
       "      <td>NaN</td>\n",
       "    </tr>\n",
       "    <tr>\n",
       "      <th>2023-01-19</th>\n",
       "      <td>127.260</td>\n",
       "      <td>129.9900</td>\n",
       "      <td>124.3082</td>\n",
       "      <td>127.17</td>\n",
       "      <td>170291880</td>\n",
       "      <td>NaN</td>\n",
       "    </tr>\n",
       "    <tr>\n",
       "      <th>2023-01-18</th>\n",
       "      <td>136.555</td>\n",
       "      <td>136.6800</td>\n",
       "      <td>127.0100</td>\n",
       "      <td>128.78</td>\n",
       "      <td>195680318</td>\n",
       "      <td>NaN</td>\n",
       "    </tr>\n",
       "    <tr>\n",
       "      <th>2023-01-17</th>\n",
       "      <td>125.695</td>\n",
       "      <td>131.7000</td>\n",
       "      <td>125.0200</td>\n",
       "      <td>131.49</td>\n",
       "      <td>186476985</td>\n",
       "      <td>NaN</td>\n",
       "    </tr>\n",
       "    <tr>\n",
       "      <th>2023-01-13</th>\n",
       "      <td>116.550</td>\n",
       "      <td>122.6300</td>\n",
       "      <td>115.6000</td>\n",
       "      <td>122.40</td>\n",
       "      <td>180714119</td>\n",
       "      <td>NaN</td>\n",
       "    </tr>\n",
       "    <tr>\n",
       "      <th>2023-01-12</th>\n",
       "      <td>122.560</td>\n",
       "      <td>124.1311</td>\n",
       "      <td>117.0000</td>\n",
       "      <td>123.56</td>\n",
       "      <td>169400913</td>\n",
       "      <td>NaN</td>\n",
       "    </tr>\n",
       "    <tr>\n",
       "      <th>2023-01-11</th>\n",
       "      <td>122.090</td>\n",
       "      <td>125.9500</td>\n",
       "      <td>120.5100</td>\n",
       "      <td>123.22</td>\n",
       "      <td>183810771</td>\n",
       "      <td>NaN</td>\n",
       "    </tr>\n",
       "    <tr>\n",
       "      <th>2023-01-10</th>\n",
       "      <td>121.070</td>\n",
       "      <td>122.7600</td>\n",
       "      <td>114.9200</td>\n",
       "      <td>118.85</td>\n",
       "      <td>167642485</td>\n",
       "      <td>NaN</td>\n",
       "    </tr>\n",
       "    <tr>\n",
       "      <th>2023-01-09</th>\n",
       "      <td>118.960</td>\n",
       "      <td>123.5200</td>\n",
       "      <td>117.1100</td>\n",
       "      <td>119.77</td>\n",
       "      <td>190283951</td>\n",
       "      <td>NaN</td>\n",
       "    </tr>\n",
       "    <tr>\n",
       "      <th>2023-01-06</th>\n",
       "      <td>103.000</td>\n",
       "      <td>114.3900</td>\n",
       "      <td>101.8100</td>\n",
       "      <td>113.06</td>\n",
       "      <td>220911051</td>\n",
       "      <td>NaN</td>\n",
       "    </tr>\n",
       "    <tr>\n",
       "      <th>2023-01-05</th>\n",
       "      <td>110.510</td>\n",
       "      <td>111.7500</td>\n",
       "      <td>107.1601</td>\n",
       "      <td>110.34</td>\n",
       "      <td>157986324</td>\n",
       "      <td>NaN</td>\n",
       "    </tr>\n",
       "    <tr>\n",
       "      <th>2023-01-04</th>\n",
       "      <td>109.110</td>\n",
       "      <td>114.5900</td>\n",
       "      <td>107.5200</td>\n",
       "      <td>113.64</td>\n",
       "      <td>180388976</td>\n",
       "      <td>NaN</td>\n",
       "    </tr>\n",
       "    <tr>\n",
       "      <th>2023-01-03</th>\n",
       "      <td>118.470</td>\n",
       "      <td>118.8000</td>\n",
       "      <td>104.6400</td>\n",
       "      <td>108.10</td>\n",
       "      <td>231402818</td>\n",
       "      <td>NaN</td>\n",
       "    </tr>\n",
       "    <tr>\n",
       "      <th>2022-12-30</th>\n",
       "      <td>119.950</td>\n",
       "      <td>124.4800</td>\n",
       "      <td>119.7500</td>\n",
       "      <td>123.18</td>\n",
       "      <td>157777339</td>\n",
       "      <td>NaN</td>\n",
       "    </tr>\n",
       "    <tr>\n",
       "      <th>2022-12-29</th>\n",
       "      <td>120.385</td>\n",
       "      <td>123.5700</td>\n",
       "      <td>117.4950</td>\n",
       "      <td>121.82</td>\n",
       "      <td>221923313</td>\n",
       "      <td>NaN</td>\n",
       "    </tr>\n",
       "    <tr>\n",
       "      <th>2022-12-28</th>\n",
       "      <td>110.350</td>\n",
       "      <td>116.2700</td>\n",
       "      <td>108.2400</td>\n",
       "      <td>112.71</td>\n",
       "      <td>221070537</td>\n",
       "      <td>NaN</td>\n",
       "    </tr>\n",
       "    <tr>\n",
       "      <th>2022-12-27</th>\n",
       "      <td>117.495</td>\n",
       "      <td>119.6700</td>\n",
       "      <td>108.7600</td>\n",
       "      <td>109.10</td>\n",
       "      <td>208643444</td>\n",
       "      <td>NaN</td>\n",
       "    </tr>\n",
       "    <tr>\n",
       "      <th>2022-12-23</th>\n",
       "      <td>126.370</td>\n",
       "      <td>128.6173</td>\n",
       "      <td>121.0200</td>\n",
       "      <td>123.15</td>\n",
       "      <td>166989688</td>\n",
       "      <td>NaN</td>\n",
       "    </tr>\n",
       "    <tr>\n",
       "      <th>2022-12-22</th>\n",
       "      <td>136.000</td>\n",
       "      <td>136.6300</td>\n",
       "      <td>122.2600</td>\n",
       "      <td>125.35</td>\n",
       "      <td>210090250</td>\n",
       "      <td>NaN</td>\n",
       "    </tr>\n",
       "    <tr>\n",
       "      <th>2022-12-21</th>\n",
       "      <td>139.335</td>\n",
       "      <td>141.2600</td>\n",
       "      <td>135.8900</td>\n",
       "      <td>137.57</td>\n",
       "      <td>145417412</td>\n",
       "      <td>NaN</td>\n",
       "    </tr>\n",
       "    <tr>\n",
       "      <th>2022-12-20</th>\n",
       "      <td>146.050</td>\n",
       "      <td>148.4700</td>\n",
       "      <td>137.6600</td>\n",
       "      <td>137.80</td>\n",
       "      <td>159563267</td>\n",
       "      <td>NaN</td>\n",
       "    </tr>\n",
       "    <tr>\n",
       "      <th>2022-12-19</th>\n",
       "      <td>154.000</td>\n",
       "      <td>155.2500</td>\n",
       "      <td>145.8200</td>\n",
       "      <td>149.87</td>\n",
       "      <td>139390634</td>\n",
       "      <td>NaN</td>\n",
       "    </tr>\n",
       "    <tr>\n",
       "      <th>2022-12-16</th>\n",
       "      <td>159.635</td>\n",
       "      <td>160.9900</td>\n",
       "      <td>150.0400</td>\n",
       "      <td>150.23</td>\n",
       "      <td>139032175</td>\n",
       "      <td>NaN</td>\n",
       "    </tr>\n",
       "    <tr>\n",
       "      <th>2022-12-15</th>\n",
       "      <td>153.440</td>\n",
       "      <td>160.9299</td>\n",
       "      <td>153.2800</td>\n",
       "      <td>157.67</td>\n",
       "      <td>122334459</td>\n",
       "      <td>NaN</td>\n",
       "    </tr>\n",
       "    <tr>\n",
       "      <th>2022-12-14</th>\n",
       "      <td>159.250</td>\n",
       "      <td>161.6200</td>\n",
       "      <td>155.3100</td>\n",
       "      <td>156.80</td>\n",
       "      <td>140682338</td>\n",
       "      <td>131.531333</td>\n",
       "    </tr>\n",
       "    <tr>\n",
       "      <th>2022-12-13</th>\n",
       "      <td>174.870</td>\n",
       "      <td>175.0500</td>\n",
       "      <td>156.9100</td>\n",
       "      <td>160.95</td>\n",
       "      <td>175862722</td>\n",
       "      <td>131.946000</td>\n",
       "    </tr>\n",
       "  </tbody>\n",
       "</table>\n",
       "</div>"
      ],
      "text/plain": [
       "               Open      High       Low   Close     Volume  \\\n",
       "Date                                                         \n",
       "2023-01-27  162.430  180.6800  161.1700  177.90  306590613   \n",
       "2023-01-26  159.965  161.4200  154.7600  160.27  234815090   \n",
       "2023-01-25  141.905  146.4100  138.0700  144.43  192734347   \n",
       "2023-01-24  143.000  146.5000  141.1000  143.89  158699056   \n",
       "2023-01-23  135.870  145.3793  134.2700  143.75  203119211   \n",
       "2023-01-20  128.680  133.5100  127.3466  133.42  138858136   \n",
       "2023-01-19  127.260  129.9900  124.3082  127.17  170291880   \n",
       "2023-01-18  136.555  136.6800  127.0100  128.78  195680318   \n",
       "2023-01-17  125.695  131.7000  125.0200  131.49  186476985   \n",
       "2023-01-13  116.550  122.6300  115.6000  122.40  180714119   \n",
       "2023-01-12  122.560  124.1311  117.0000  123.56  169400913   \n",
       "2023-01-11  122.090  125.9500  120.5100  123.22  183810771   \n",
       "2023-01-10  121.070  122.7600  114.9200  118.85  167642485   \n",
       "2023-01-09  118.960  123.5200  117.1100  119.77  190283951   \n",
       "2023-01-06  103.000  114.3900  101.8100  113.06  220911051   \n",
       "2023-01-05  110.510  111.7500  107.1601  110.34  157986324   \n",
       "2023-01-04  109.110  114.5900  107.5200  113.64  180388976   \n",
       "2023-01-03  118.470  118.8000  104.6400  108.10  231402818   \n",
       "2022-12-30  119.950  124.4800  119.7500  123.18  157777339   \n",
       "2022-12-29  120.385  123.5700  117.4950  121.82  221923313   \n",
       "2022-12-28  110.350  116.2700  108.2400  112.71  221070537   \n",
       "2022-12-27  117.495  119.6700  108.7600  109.10  208643444   \n",
       "2022-12-23  126.370  128.6173  121.0200  123.15  166989688   \n",
       "2022-12-22  136.000  136.6300  122.2600  125.35  210090250   \n",
       "2022-12-21  139.335  141.2600  135.8900  137.57  145417412   \n",
       "2022-12-20  146.050  148.4700  137.6600  137.80  159563267   \n",
       "2022-12-19  154.000  155.2500  145.8200  149.87  139390634   \n",
       "2022-12-16  159.635  160.9900  150.0400  150.23  139032175   \n",
       "2022-12-15  153.440  160.9299  153.2800  157.67  122334459   \n",
       "2022-12-14  159.250  161.6200  155.3100  156.80  140682338   \n",
       "2022-12-13  174.870  175.0500  156.9100  160.95  175862722   \n",
       "\n",
       "            Open: 30 days rolling  \n",
       "Date                               \n",
       "2023-01-27                    NaN  \n",
       "2023-01-26                    NaN  \n",
       "2023-01-25                    NaN  \n",
       "2023-01-24                    NaN  \n",
       "2023-01-23                    NaN  \n",
       "2023-01-20                    NaN  \n",
       "2023-01-19                    NaN  \n",
       "2023-01-18                    NaN  \n",
       "2023-01-17                    NaN  \n",
       "2023-01-13                    NaN  \n",
       "2023-01-12                    NaN  \n",
       "2023-01-11                    NaN  \n",
       "2023-01-10                    NaN  \n",
       "2023-01-09                    NaN  \n",
       "2023-01-06                    NaN  \n",
       "2023-01-05                    NaN  \n",
       "2023-01-04                    NaN  \n",
       "2023-01-03                    NaN  \n",
       "2022-12-30                    NaN  \n",
       "2022-12-29                    NaN  \n",
       "2022-12-28                    NaN  \n",
       "2022-12-27                    NaN  \n",
       "2022-12-23                    NaN  \n",
       "2022-12-22                    NaN  \n",
       "2022-12-21                    NaN  \n",
       "2022-12-20                    NaN  \n",
       "2022-12-19                    NaN  \n",
       "2022-12-16                    NaN  \n",
       "2022-12-15                    NaN  \n",
       "2022-12-14             131.531333  \n",
       "2022-12-13             131.946000  "
      ]
     },
     "execution_count": 71,
     "metadata": {},
     "output_type": "execute_result"
    }
   ],
   "source": [
    "pd_stc.head(31)"
   ]
  },
  {
   "cell_type": "code",
   "execution_count": 72,
   "metadata": {},
   "outputs": [
    {
     "data": {
      "text/plain": [
       "<AxesSubplot:xlabel='Date'>"
      ]
     },
     "execution_count": 72,
     "metadata": {},
     "output_type": "execute_result"
    },
    {
     "data": {
      "image/png": "[encoded data removed]",
      "text/plain": [
       "<Figure size 864x360 with 1 Axes>"
      ]
     },
     "metadata": {
      "needs_background": "light"
     },
     "output_type": "display_data"
    }
   ],
   "source": [
    "pd_stc[['Open','Open: 30 days rolling']].plot(figsize=(12,5))"
   ]
  },
  {
   "cell_type": "code",
   "execution_count": null,
   "metadata": {},
   "outputs": [],
   "source": []
  }
 ],
 "metadata": {
  "kernelspec": {
   "display_name": "Python 3",
   "language": "python",
   "name": "python3"
  },
  "language_info": {
   "codemirror_mode": {
    "name": "ipython",
    "version": 3
   },
   "file_extension": ".py",
   "mimetype": "text/x-python",
   "name": "python",
   "nbconvert_exporter": "python",
   "pygments_lexer": "ipython3",
   "version": "3.8.5"
  }
 },
 "nbformat": 4,
 "nbformat_minor": 4
}

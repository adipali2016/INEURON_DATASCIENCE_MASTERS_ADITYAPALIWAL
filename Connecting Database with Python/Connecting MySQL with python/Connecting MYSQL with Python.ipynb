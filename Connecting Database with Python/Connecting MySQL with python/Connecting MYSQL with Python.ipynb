{
 "cells": [
  {
   "cell_type": "markdown",
   "metadata": {},
   "source": [
    "# Installing the Connector"
   ]
  },
  {
   "cell_type": "code",
   "execution_count": 3,
   "metadata": {},
   "outputs": [
    {
     "name": "stdout",
     "output_type": "stream",
     "text": [
      "Requirement already satisfied: mysql-connector-python in c:\\users\\asus\\anaconda3\\lib\\site-packages (8.0.23)\n",
      "Requirement already satisfied: protobuf>=3.0.0 in c:\\users\\asus\\anaconda3\\lib\\site-packages (from mysql-connector-python) (3.17.3)\n",
      "Requirement already satisfied: six>=1.9 in c:\\users\\asus\\anaconda3\\lib\\site-packages (from protobuf>=3.0.0->mysql-connector-python) (1.15.0)\n"
     ]
    }
   ],
   "source": [
    "!pip install mysql-connector-python"
   ]
  },
  {
   "cell_type": "markdown",
   "metadata": {},
   "source": [
    "## Using the connector to create an instance"
   ]
  },
  {
   "cell_type": "code",
   "execution_count": 2,
   "metadata": {},
   "outputs": [
    {
     "name": "stdout",
     "output_type": "stream",
     "text": [
      "[('information_schema',), ('my_page',), ('mysql',), ('performance_schema',), ('sakila',), ('student',), ('students',), ('sys',), ('world',)]\n"
     ]
    }
   ],
   "source": [
    "import mysql.connector as connection\n",
    "\n",
    "try:\n",
    "    mydb = connection.connect(host = 'localhost', user = 'root', passwd = 'root', use_pure = True)\n",
    "    \n",
    "    query = \"SHOW DATABASES\"\n",
    "    \n",
    "    cursor = mydb.cursor()\n",
    "    cursor.execute(query)\n",
    "    print(cursor.fetchall())\n",
    "    \n",
    "except Exception as e:\n",
    "    mydb.close()\n",
    "    print(str(e))"
   ]
  },
  {
   "cell_type": "markdown",
   "metadata": {},
   "source": [
    "### mydb is a connection instance.\n",
    "Parameters are:\n",
    "1. hostName: This means the host of the connection. It can be a cloud link or now as we are using 'localhost'\n",
    "2. username: It is given by every user and different user might have access to different databases.\n",
    "3. passwd: A user always have a password to access the databases.\n",
    "\n",
    "### cursor is a pointer that helps us execute the queries and point to an iterable object.\n",
    "\n",
    "1. execute(): This function helps us in executing the queries. The query is given in the form of string. It returns NONEType.\n",
    "\n",
    "2. fetchall(): It is used to fetch the response of the query.\n",
    "\n",
    "\n",
    "### If their exists an error, we need to close the instance.\n",
    "\n",
    "1. close(): This function is used to close the instance of the connection. It returns nothing."
   ]
  },
  {
   "cell_type": "markdown",
   "metadata": {},
   "source": [
    "## Let's try to execute a few queries."
   ]
  },
  {
   "cell_type": "code",
   "execution_count": 4,
   "metadata": {},
   "outputs": [
    {
     "name": "stdout",
     "output_type": "stream",
     "text": [
      "Database created\n"
     ]
    }
   ],
   "source": [
    "try:\n",
    "    # Let's create a database named \"aditya\"\n",
    "    query = \"Create database aditya\"\n",
    "    cursor.execute(query)\n",
    "    print(\"Database created\")\n",
    "except Exception as e:\n",
    "    mydb.close()\n",
    "    print(str(e))"
   ]
  },
  {
   "cell_type": "code",
   "execution_count": 6,
   "metadata": {},
   "outputs": [
    {
     "name": "stdout",
     "output_type": "stream",
     "text": [
      "[('aditya',), ('information_schema',), ('my_page',), ('mysql',), ('performance_schema',), ('sakila',), ('student',), ('students',), ('sys',), ('world',)]\n"
     ]
    }
   ],
   "source": [
    "try:\n",
    "    # checking whether the database is really created or not.\n",
    "    cursor.execute(\"Show Databases\")\n",
    "    print(cursor.fetchall())\n",
    "except Exception as e:\n",
    "    mydb.close()\n",
    "    print(str(e))"
   ]
  },
  {
   "cell_type": "code",
   "execution_count": 7,
   "metadata": {},
   "outputs": [],
   "source": [
    "mydb.close()"
   ]
  },
  {
   "cell_type": "markdown",
   "metadata": {},
   "source": [
    "## We have worked on queries where we create a database. But how to access a database.\n",
    "To access the database, we need to create an object of connection(mydb) using parameter database and giving the specific database name."
   ]
  },
  {
   "cell_type": "code",
   "execution_count": 41,
   "metadata": {},
   "outputs": [
    {
     "name": "stdout",
     "output_type": "stream",
     "text": [
      "[('studentdetails',)]\n"
     ]
    }
   ],
   "source": [
    "try:\n",
    "    mydb = connection.connect(host = 'localhost', user = 'root', passwd = 'root', database = 'aditya', use_pure = True)\n",
    "    \n",
    "    query = \"SHOW TABLES\"\n",
    "    # We currently do not have any tables and thus we should get an empty set.\n",
    "    cursor = mydb.cursor()\n",
    "    cursor.execute(query)\n",
    "    print(cursor.fetchall())\n",
    "    \n",
    "except Exception as e:\n",
    "    mydb.close()\n",
    "    print(str(e))"
   ]
  },
  {
   "cell_type": "markdown",
   "metadata": {},
   "source": [
    "### To check whether the connection is still active we can use function 'is_connected'.\n",
    "eg. mydb.is_connected()\n",
    "It returns boolean value."
   ]
  },
  {
   "cell_type": "code",
   "execution_count": 42,
   "metadata": {},
   "outputs": [],
   "source": [
    "# Query to create a table\n",
    "query = \"Create table studentdetails (studentid INT(10), firstname VARCHAR(60), lastname VARCHAR(60), registerationDate DATE, Class VARCHAR(60), Section VARCHAR(60))\""
   ]
  },
  {
   "cell_type": "code",
   "execution_count": 43,
   "metadata": {},
   "outputs": [
    {
     "name": "stdout",
     "output_type": "stream",
     "text": [
      "1050 (42S01): Table 'studentdetails' already exists\n"
     ]
    }
   ],
   "source": [
    "try:\n",
    "    cursor.execute(query)\n",
    "    cursor.execute(\"Show tables\")\n",
    "    print(cursor.fetchall())\n",
    "except Exception as e:\n",
    "    #mydb.close()\n",
    "    print(str(e))"
   ]
  },
  {
   "cell_type": "code",
   "execution_count": 44,
   "metadata": {},
   "outputs": [],
   "source": [
    "# Lets insert a row into the table\n",
    "query = \"INSERT INTO studentdetails VALUES (19938, 'Aditya', 'Paliwal', '2000-03-21', '10th', 'B')\""
   ]
  },
  {
   "cell_type": "code",
   "execution_count": 45,
   "metadata": {},
   "outputs": [
    {
     "name": "stdout",
     "output_type": "stream",
     "text": [
      "[(19938, 'Aditya', 'Paliwal', datetime.date(2000, 3, 21), '10th', 'B')]\n"
     ]
    }
   ],
   "source": [
    "try:\n",
    "    cursor.execute(query)\n",
    "    query = \"SELECT * FROM studentdetails\"\n",
    "    cursor.execute(query)\n",
    "    print(cursor.fetchall())\n",
    "except Exception as e:\n",
    "    mydb.close()\n",
    "    print(str(e))"
   ]
  },
  {
   "cell_type": "markdown",
   "metadata": {},
   "source": [
    "## Commit\n",
    "\n",
    "This means checking in the data that we have inserted. It works on the concept of TRANSACTIONS learnt in DBMS."
   ]
  },
  {
   "cell_type": "code",
   "execution_count": 46,
   "metadata": {},
   "outputs": [],
   "source": [
    "mydb.commit()"
   ]
  },
  {
   "cell_type": "code",
   "execution_count": 47,
   "metadata": {},
   "outputs": [],
   "source": [
    "query = \"INSERT INTO studentdetails VALUES (19938, 'Aditya', 'Paliwal', '2000-03-21', '10th', 'B')\"\n",
    "try:\n",
    "    for i in range(15):\n",
    "        cursor.execute(query)\n",
    "except Exception as e:\n",
    "    mydb.close()\n",
    "    print(str(e))"
   ]
  },
  {
   "cell_type": "markdown",
   "metadata": {},
   "source": [
    "## How to show the data in the form of tables\n",
    "\n",
    "For this we will be using the pandas library. It will be helpful in showing the data in the form of tables."
   ]
  },
  {
   "cell_type": "code",
   "execution_count": 48,
   "metadata": {},
   "outputs": [
    {
     "data": {
      "text/html": [
       "<div>\n",
       "<style scoped>\n",
       "    .dataframe tbody tr th:only-of-type {\n",
       "        vertical-align: middle;\n",
       "    }\n",
       "\n",
       "    .dataframe tbody tr th {\n",
       "        vertical-align: top;\n",
       "    }\n",
       "\n",
       "    .dataframe thead th {\n",
       "        text-align: right;\n",
       "    }\n",
       "</style>\n",
       "<table border=\"1\" class=\"dataframe\">\n",
       "  <thead>\n",
       "    <tr style=\"text-align: right;\">\n",
       "      <th></th>\n",
       "      <th>studentid</th>\n",
       "      <th>firstname</th>\n",
       "      <th>lastname</th>\n",
       "      <th>registerationDate</th>\n",
       "      <th>Class</th>\n",
       "      <th>Section</th>\n",
       "    </tr>\n",
       "  </thead>\n",
       "  <tbody>\n",
       "    <tr>\n",
       "      <th>0</th>\n",
       "      <td>19938</td>\n",
       "      <td>Aditya</td>\n",
       "      <td>Paliwal</td>\n",
       "      <td>2000-03-21</td>\n",
       "      <td>10th</td>\n",
       "      <td>B</td>\n",
       "    </tr>\n",
       "    <tr>\n",
       "      <th>1</th>\n",
       "      <td>19938</td>\n",
       "      <td>Aditya</td>\n",
       "      <td>Paliwal</td>\n",
       "      <td>2000-03-21</td>\n",
       "      <td>10th</td>\n",
       "      <td>B</td>\n",
       "    </tr>\n",
       "    <tr>\n",
       "      <th>2</th>\n",
       "      <td>19938</td>\n",
       "      <td>Aditya</td>\n",
       "      <td>Paliwal</td>\n",
       "      <td>2000-03-21</td>\n",
       "      <td>10th</td>\n",
       "      <td>B</td>\n",
       "    </tr>\n",
       "    <tr>\n",
       "      <th>3</th>\n",
       "      <td>19938</td>\n",
       "      <td>Aditya</td>\n",
       "      <td>Paliwal</td>\n",
       "      <td>2000-03-21</td>\n",
       "      <td>10th</td>\n",
       "      <td>B</td>\n",
       "    </tr>\n",
       "    <tr>\n",
       "      <th>4</th>\n",
       "      <td>19938</td>\n",
       "      <td>Aditya</td>\n",
       "      <td>Paliwal</td>\n",
       "      <td>2000-03-21</td>\n",
       "      <td>10th</td>\n",
       "      <td>B</td>\n",
       "    </tr>\n",
       "  </tbody>\n",
       "</table>\n",
       "</div>"
      ],
      "text/plain": [
       "   studentid firstname lastname registerationDate Class Section\n",
       "0      19938    Aditya  Paliwal        2000-03-21  10th       B\n",
       "1      19938    Aditya  Paliwal        2000-03-21  10th       B\n",
       "2      19938    Aditya  Paliwal        2000-03-21  10th       B\n",
       "3      19938    Aditya  Paliwal        2000-03-21  10th       B\n",
       "4      19938    Aditya  Paliwal        2000-03-21  10th       B"
      ]
     },
     "execution_count": 48,
     "metadata": {},
     "output_type": "execute_result"
    }
   ],
   "source": [
    "import pandas as pd\n",
    "df1 = pd.read_sql(\"SELECT * FROM aditya.studentdetails\", mydb)\n",
    "df1.head()"
   ]
  },
  {
   "cell_type": "code",
   "execution_count": null,
   "metadata": {},
   "outputs": [],
   "source": []
  }
 ],
 "metadata": {
  "kernelspec": {
   "display_name": "Python 3",
   "language": "python",
   "name": "python3"
  },
  "language_info": {
   "codemirror_mode": {
    "name": "ipython",
    "version": 3
   },
   "file_extension": ".py",
   "mimetype": "text/x-python",
   "name": "python",
   "nbconvert_exporter": "python",
   "pygments_lexer": "ipython3",
   "version": "3.8.5"
  }
 },
 "nbformat": 4,
 "nbformat_minor": 4
}

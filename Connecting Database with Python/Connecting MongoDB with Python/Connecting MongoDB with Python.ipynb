{
 "cells": [
  {
   "cell_type": "markdown",
   "metadata": {},
   "source": [
    "## Installing the connector"
   ]
  },
  {
   "cell_type": "code",
   "execution_count": 1,
   "metadata": {},
   "outputs": [
    {
     "name": "stdout",
     "output_type": "stream",
     "text": [
      "Collecting pymongo\n",
      "  Downloading pymongo-4.3.3-cp38-cp38-win_amd64.whl (382 kB)\n",
      "Collecting dnspython<3.0.0,>=1.16.0\n",
      "  Downloading dnspython-2.3.0-py3-none-any.whl (283 kB)\n",
      "Installing collected packages: dnspython, pymongo\n",
      "Successfully installed dnspython-2.3.0 pymongo-4.3.3\n"
     ]
    }
   ],
   "source": [
    "!python -m pip install pymongo"
   ]
  },
  {
   "cell_type": "markdown",
   "metadata": {},
   "source": [
    "### Importing the connector and try to set up a connection"
   ]
  },
  {
   "cell_type": "code",
   "execution_count": 8,
   "metadata": {},
   "outputs": [],
   "source": [
    "import pymongo"
   ]
  },
  {
   "cell_type": "code",
   "execution_count": 10,
   "metadata": {},
   "outputs": [],
   "source": [
    "Default_connection_URL = \"mongodb://localhost:27017/\"\n",
    "Db_name = \"Aditya\"\n",
    "\n",
    "client = pymongo.MongoClient(Default_connection_URL)\n",
    "\n",
    "database = client[Db_name]\n",
    "#client"
   ]
  },
  {
   "cell_type": "markdown",
   "metadata": {},
   "source": [
    "Default connection url for local computers is \"mongodb://localhost:27017/\".\n",
    "\n",
    "#### We try to create a MongoClient using pymongo\n",
    "\n",
    "Untill we create atleast a single collection in the databse, it won't be shown on the local system."
   ]
  },
  {
   "cell_type": "code",
   "execution_count": 12,
   "metadata": {},
   "outputs": [
    {
     "data": {
      "text/plain": [
       "['adipali', 'admin', 'config', 'local']"
      ]
     },
     "execution_count": 12,
     "metadata": {},
     "output_type": "execute_result"
    }
   ],
   "source": [
    "client.list_database_names()"
   ]
  },
  {
   "cell_type": "markdown",
   "metadata": {},
   "source": [
    "### Insert a data in the database\n",
    "\n",
    "Record is the data in the form of dictionary while database contains a lot of collection. Collection is a group of records in a single space."
   ]
  },
  {
   "cell_type": "code",
   "execution_count": 13,
   "metadata": {},
   "outputs": [],
   "source": [
    "collection_name = \"Aditya_details\"\n",
    "collection = database[collection_name]"
   ]
  },
  {
   "cell_type": "code",
   "execution_count": 14,
   "metadata": {},
   "outputs": [
    {
     "data": {
      "text/plain": [
       "<pymongo.results.InsertOneResult at 0x1dcf2ce4e50>"
      ]
     },
     "execution_count": 14,
     "metadata": {},
     "output_type": "execute_result"
    }
   ],
   "source": [
    "record = {\n",
    "    'Name': \"Aditya\",\n",
    "    'Surname': \"Paliwal\",\n",
    "    'Date': \"21/03/2000\"\n",
    "}\n",
    "\n",
    "collection.insert_one(record)"
   ]
  },
  {
   "cell_type": "markdown",
   "metadata": {},
   "source": [
    "We can see that an id has created by the mongodb by the name '_id'. We can overwrite this id by giving our own id.\n",
    "\n",
    "Note: '_id' has to be unique at every instance."
   ]
  },
  {
   "cell_type": "code",
   "execution_count": 16,
   "metadata": {},
   "outputs": [
    {
     "data": {
      "text/plain": [
       "<pymongo.results.InsertOneResult at 0x1dcf2d198e0>"
      ]
     },
     "execution_count": 16,
     "metadata": {},
     "output_type": "execute_result"
    }
   ],
   "source": [
    "record = {\n",
    "    '_id': 2,\n",
    "    'Name': \"Aditya\",\n",
    "    'Surname': \"Paliwal\",\n",
    "    'Date': \"21/03/2000\"\n",
    "}\n",
    "\n",
    "collection.insert_one(record)"
   ]
  },
  {
   "cell_type": "markdown",
   "metadata": {},
   "source": [
    "### To find records we use find_one function\n",
    "\n",
    "It can take query as argument.\n",
    "\n",
    "'find' function gives an iterable which could used ot access all the records."
   ]
  },
  {
   "cell_type": "code",
   "execution_count": 17,
   "metadata": {},
   "outputs": [
    {
     "data": {
      "text/plain": [
       "{'_id': ObjectId('63d018edfb8fa97a988af9c1'),\n",
       " 'Name': 'Aditya',\n",
       " 'Surname': 'Paliwal',\n",
       " 'Date': '21/03/2000'}"
      ]
     },
     "execution_count": 17,
     "metadata": {},
     "output_type": "execute_result"
    }
   ],
   "source": [
    "collection.find_one()"
   ]
  },
  {
   "cell_type": "code",
   "execution_count": 18,
   "metadata": {},
   "outputs": [
    {
     "name": "stdout",
     "output_type": "stream",
     "text": [
      "{'_id': 2, 'Name': 'Aditya', 'Surname': 'Paliwal', 'Date': '21/03/2000'}\n"
     ]
    }
   ],
   "source": [
    "query1 = {\"_id\": 2}\n",
    "\n",
    "result1 = collection.find(query1)\n",
    "for data in result1:\n",
    "    print(data)"
   ]
  },
  {
   "cell_type": "markdown",
   "metadata": {},
   "source": [
    "### IMP Points\n",
    "\n",
    "1. We have many function like delete_one, delete, delete_many to delete any record with or without query.\n",
    "\n",
    "2. collections.drop() can be used to drop the whole collection.\n",
    "\n",
    "3. We have many function like update_one, update, update_many to update any record. Arguments (old_record, new_record)"
   ]
  }
 ],
 "metadata": {
  "kernelspec": {
   "display_name": "Python 3",
   "language": "python",
   "name": "python3"
  },
  "language_info": {
   "codemirror_mode": {
    "name": "ipython",
    "version": 3
   },
   "file_extension": ".py",
   "mimetype": "text/x-python",
   "name": "python",
   "nbconvert_exporter": "python",
   "pygments_lexer": "ipython3",
   "version": "3.8.5"
  }
 },
 "nbformat": 4,
 "nbformat_minor": 4
}
